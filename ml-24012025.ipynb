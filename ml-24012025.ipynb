{
 "cells": [
  {
   "cell_type": "code",
   "execution_count": 10,
   "id": "723a36f1-9c77-43ac-a705-a0348fb1478e",
   "metadata": {},
   "outputs": [
    {
     "ename": "NameError",
     "evalue": "name '_name_' is not defined",
     "output_type": "error",
     "traceback": [
      "\u001b[1;31m---------------------------------------------------------------------------\u001b[0m",
      "\u001b[1;31mNameError\u001b[0m                                 Traceback (most recent call last)",
      "Cell \u001b[1;32mIn[10], line 29\u001b[0m\n\u001b[0;32m     25\u001b[0m     \u001b[38;5;28mprint\u001b[39m(\u001b[38;5;124m\"\u001b[39m\u001b[38;5;124mCleaned Dataset:\u001b[39m\u001b[38;5;124m\"\u001b[39m)\n\u001b[0;32m     26\u001b[0m     \u001b[38;5;28mprint\u001b[39m(df_cleaned)\n\u001b[1;32m---> 29\u001b[0m \u001b[38;5;28;01mif\u001b[39;00m _name_ \u001b[38;5;241m==\u001b[39m \u001b[38;5;124m\"\u001b[39m\u001b[38;5;124m_main_\u001b[39m\u001b[38;5;124m\"\u001b[39m:\n\u001b[0;32m     30\u001b[0m     example_dataset \u001b[38;5;241m=\u001b[39m generate_example_dataset()\n\u001b[0;32m     31\u001b[0m     clean_dataset(example_dataset)\n",
      "\u001b[1;31mNameError\u001b[0m: name '_name_' is not defined"
     ]
    }
   ],
   "source": [
    "import pandas as pd\n",
    "from sklearn.impute import SimpleImputer\n",
    "\n",
    "def generate_example_dataset():\n",
    "    data = {\n",
    "        'passengerId': [1, 2, 3, 4, 5],\n",
    "        'Name': ['John', 'Jane', 'Bob', 'Alice', 'Charlie'],\n",
    "        'age': [22, None, 25, None, 30],\n",
    "        'Fare': [7.25, 71.28, None, 8.05, 10.5],\n",
    "        'survived': [0, 1, 1, 0, 1]\n",
    "    }\n",
    "    return pd.DataFrame(data)\n",
    "\n",
    "def clean_dataset(df):\n",
    "    print(\"Original Dataset:\")\n",
    "    print(df)\n",
    "    \n",
    "    \n",
    "    numeric_df = df.select_dtypes(include=\"number\")\n",
    "    \n",
    "    \n",
    "    imputer = SimpleImputer(strategy=\"mean\")\n",
    "    df_cleaned = pd.DataFrame(imputer.fit_transform(numeric_df), columns=numeric_df.columns)\n",
    "    \n",
    "    print(\"Cleaned Dataset:\")\n",
    "    print(df_cleaned)\n",
    "\n",
    "\n",
    "if _name_ == \"_main_\":\n",
    "    example_dataset = generate_example_dataset()\n",
    "    clean_dataset(example_dataset)"
   ]
  },
  {
   "cell_type": "code",
   "execution_count": 12,
   "id": "443e4a3c-c7f6-4406-810e-72e9fbab6861",
   "metadata": {},
   "outputs": [
    {
     "name": "stdout",
     "output_type": "stream",
     "text": [
      "Original Dataset:\n",
      "   passengerId     Name   age   Fare  survived\n",
      "0            1     John  22.0   7.25         0\n",
      "1            2     Jane   NaN  71.28         1\n",
      "2            3      Bob  25.0    NaN         1\n",
      "3            4    Alice   NaN   8.05         0\n",
      "4            5  Charlie  30.0  10.50         1\n",
      "Cleaned Dataset:\n",
      "   passengerId     Name        age   Fare  survived\n",
      "0          1.0     John  22.000000   7.25       0.0\n",
      "1          2.0     Jane  25.666667  71.28       1.0\n",
      "2          3.0      Bob  25.000000  24.27       1.0\n",
      "3          4.0    Alice  25.666667   8.05       0.0\n",
      "4          5.0  Charlie  30.000000  10.50       1.0\n"
     ]
    }
   ],
   "source": [
    "import pandas as pd\n",
    "from sklearn.impute import SimpleImputer\n",
    "\n",
    "def generate_example_dataset():\n",
    "    data = {\n",
    "        'passengerId': [1, 2, 3, 4, 5],\n",
    "        'Name': ['John', 'Jane', 'Bob', 'Alice', 'Charlie'],\n",
    "        'age': [22, None, 25, None, 30],\n",
    "        'Fare': [7.25, 71.28, None, 8.05, 10.5],\n",
    "        'survived': [0, 1, 1, 0, 1]\n",
    "    }\n",
    "    return pd.DataFrame(data)\n",
    "\n",
    "def clean_dataset(df):\n",
    "    print(\"Original Dataset:\")\n",
    "    print(df)\n",
    "    \n",
    "    # Select only numeric columns for imputation\n",
    "    numeric_df = df.select_dtypes(include=\"number\")\n",
    "    \n",
    "\n",
    "    imputer = SimpleImputer(strategy=\"mean\")\n",
    "    df_cleaned = pd.DataFrame(imputer.fit_transform(numeric_df), columns=numeric_df.columns)\n",
    "    \n",
    "\n",
    "    df[numeric_df.columns] = df_cleaned\n",
    "    \n",
    "    print(\"Cleaned Dataset:\")\n",
    "    print(df)\n",
    "\n",
    "if __name__ == \"__main__\":\n",
    "    example_dataset = generate_example_dataset()\n",
    "    clean_dataset(example_dataset)\n"
   ]
  },
  {
   "cell_type": "code",
   "execution_count": null,
   "id": "7b44f466-995b-461f-9223-a43ddd53bebf",
   "metadata": {},
   "outputs": [],
   "source": []
  }
 ],
 "metadata": {
  "kernelspec": {
   "display_name": "Python 3 (ipykernel)",
   "language": "python",
   "name": "python3"
  },
  "language_info": {
   "codemirror_mode": {
    "name": "ipython",
    "version": 3
   },
   "file_extension": ".py",
   "mimetype": "text/x-python",
   "name": "python",
   "nbconvert_exporter": "python",
   "pygments_lexer": "ipython3",
   "version": "3.12.4"
  }
 },
 "nbformat": 4,
 "nbformat_minor": 5
}
