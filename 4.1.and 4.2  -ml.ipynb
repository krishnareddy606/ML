{
 "cells": [
  {
   "cell_type": "code",
   "execution_count": 5,
   "id": "7627422b-168e-4d6b-b57a-16886c55a218",
   "metadata": {},
   "outputs": [
    {
     "name": "stdout",
     "output_type": "stream",
     "text": [
      "Classes: [0 1]\n",
      "Intercept: [-1.04608067]\n",
      "Coefficients: [[0.51491375]]\n",
      "Predicted probabilities:\n",
      " [[0.74002157 0.25997843]\n",
      " [0.62975524 0.37024476]\n",
      " [0.5040632  0.4959368 ]\n",
      " [0.37785549 0.62214451]\n",
      " [0.26628093 0.73371907]\n",
      " [0.17821501 0.82178499]\n",
      " [0.11472079 0.88527921]\n",
      " [0.07186982 0.92813018]\n",
      " [0.04422513 0.95577487]\n",
      " [0.02690569 0.97309431]]\n",
      "Predictions: [0 0 0 1 1 1 1 1 1 1]\n",
      "Model score: 0.9\n",
      "Confusion matrix:\n",
      " [[3 1]\n",
      " [0 6]]\n",
      "Classification report:\n",
      "               precision    recall  f1-score   support\n",
      "\n",
      "           0       1.00      0.75      0.86         4\n",
      "           1       0.86      1.00      0.92         6\n",
      "\n",
      "    accuracy                           0.90        10\n",
      "   macro avg       0.93      0.88      0.89        10\n",
      "weighted avg       0.91      0.90      0.90        10\n",
      "\n",
      "Classes: [0 1]\n",
      "Intercept: [-3.51335372]\n",
      "Coefficients: [[1.12066084]]\n",
      "Predicted probabilities:\n",
      " [[0.97106534 0.02893466]\n",
      " [0.9162684  0.0837316 ]\n",
      " [0.7810904  0.2189096 ]\n",
      " [0.53777071 0.46222929]\n",
      " [0.27502212 0.72497788]\n",
      " [0.11007743 0.88992257]\n",
      " [0.03876835 0.96123165]\n",
      " [0.01298011 0.98701989]\n",
      " [0.0042697  0.9957303 ]\n",
      " [0.00139621 0.99860379]]\n",
      "Predictions: [0 0 0 0 1 1 1 1 1 1]\n",
      "Model score: 1.0\n",
      "Confusion matrix:\n",
      " [[4 0]\n",
      " [0 6]]\n",
      "Classification report:\n",
      "               precision    recall  f1-score   support\n",
      "\n",
      "           0       1.00      1.00      1.00         4\n",
      "           1       1.00      1.00      1.00         6\n",
      "\n",
      "    accuracy                           1.00        10\n",
      "   macro avg       1.00      1.00      1.00        10\n",
      "weighted avg       1.00      1.00      1.00        10\n",
      "\n"
     ]
    }
   ],
   "source": [
    "import matplotlib.pyplot as plt\n",
    "import numpy as np\n",
    "from sklearn.linear_model import LogisticRegression\n",
    "from sklearn.metrics import classification_report, confusion_matrix\n",
    "\n",
    "x = np.arange(10).reshape(-1, 1)\n",
    "y = np.array([0, 0, 0, 0, 1, 1, 1, 1, 1, 1])\n",
    "model = LogisticRegression(solver='liblinear', random_state=0)\n",
    "model.fit(x, y)\n",
    "\n",
    "print(\"Classes:\", model.classes_)\n",
    "print(\"Intercept:\", model.intercept_)\n",
    "print(\"Coefficients:\", model.coef_)\n",
    "print(\"Predicted probabilities:\\n\", model.predict_proba(x))\n",
    "print(\"Predictions:\", model.predict(x))\n",
    "print(\"Model score:\", model.score(x, y))\n",
    "print(\"Confusion matrix:\\n\", confusion_matrix(y, model.predict(x)))\n",
    "print(\"Classification report:\\n\", classification_report(y, model.predict(x)))\n",
    "model = LogisticRegression(solver='liblinear', C=10.0, random_state=0)\n",
    "model.fit(x, y)\n",
    "print(\"Classes:\", model.classes_)\n",
    "print(\"Intercept:\", model.intercept_)\n",
    "print(\"Coefficients:\", model.coef_)\n",
    "print(\"Predicted probabilities:\\n\", model.predict_proba(x))\n",
    "print(\"Predictions:\", model.predict(x))\n",
    "print(\"Model score:\", model.score(x, y))\n",
    "print(\"Confusion matrix:\\n\", confusion_matrix(y, model.predict(x)))\n",
    "print(\"Classification report:\\n\", classification_report(y, model.predict(x)))\n"
   ]
  },
  {
   "cell_type": "code",
   "execution_count": 19,
   "id": "a9e72b0c-8fcd-4c7c-9734-03f5578b2437",
   "metadata": {},
   "outputs": [
    {
     "name": "stdout",
     "output_type": "stream",
     "text": [
      "Accuracy: 1.00\n"
     ]
    },
    {
     "ename": "NameError",
     "evalue": "name 'odds_random' is not defined",
     "output_type": "error",
     "traceback": [
      "\u001b[1;31m---------------------------------------------------------------------------\u001b[0m",
      "\u001b[1;31mNameError\u001b[0m                                 Traceback (most recent call last)",
      "Cell \u001b[1;32mIn[19], line 36\u001b[0m\n\u001b[0;32m     34\u001b[0m \u001b[38;5;66;03m# Calculate odds ratio for each feature\u001b[39;00m\n\u001b[0;32m     35\u001b[0m odds_ratio \u001b[38;5;241m=\u001b[39m np\u001b[38;5;241m.\u001b[39mexp(model\u001b[38;5;241m.\u001b[39mcoef_)\n\u001b[1;32m---> 36\u001b[0m \u001b[38;5;28mprint\u001b[39m(\u001b[38;5;124mf\u001b[39m\u001b[38;5;124m'\u001b[39m\u001b[38;5;124mOdds Ratio: \u001b[39m\u001b[38;5;132;01m{\u001b[39;00modds_random\u001b[38;5;132;01m}\u001b[39;00m\u001b[38;5;124m'\u001b[39m)\n",
      "\u001b[1;31mNameError\u001b[0m: name 'odds_random' is not defined"
     ]
    }
   ],
   "source": [
    "import numpy as np\n",
    "import pandas as pd\n",
    "from sklearn.model_selection import train_test_split\n",
    "from sklearn.linear_model import LogisticRegression\n",
    "from sklearn.metrics import accuracy_score\n",
    "\n",
    "# Load or create your dataset\n",
    "# For simplicity, let's create a sample dataset\n",
    "data = {\n",
    "    'Age': [25, 30, 35, 40, 45, 50, 55, 60, 65, 70],\n",
    "    'Smoker': [0, 1, 0, 1, 0, 1, 0, 1, 0, 1],\n",
    "    'Outcome': [0, 0, 0, 1, 1, 1, 1, 1, 1, 1]\n",
    "}\n",
    "df = pd.DataFrame(data)\n",
    "\n",
    "# Split the dataset into features (X) and target variable (y)\n",
    "X = df[['Age', 'Smoker']]\n",
    "y = df['Outcome']\n",
    "\n",
    "# Split the data into training and testing sets\n",
    "X_train, X_test, y_train, y_test = train_test_split(X, y, test_size=0.2, random_state=42)\n",
    "\n",
    "# Train a logistic regression model\n",
    "model = LogisticRegression()\n",
    "model.fit(X_train, y_train)\n",
    "\n",
    "# Make predictions on the test set\n",
    "y_pred = model.predict(X_test)\n",
    "\n",
    "# Calculate the accuracy of the model\n",
    "accuracy = accuracy_score(y_test, y_pred)\n",
    "print(f'Accuracy: {accuracy:.2f}')\n",
    "\n",
    "# Calculate odds ratio for each feature\n",
    "odds_ratio = np.exp(model.coef_)\n",
    "print(f'Odds Ratio: {odds_random}')\n"
   ]
  },
  {
   "cell_type": "code",
   "execution_count": null,
   "id": "82c41a06-db0f-45a5-826e-979bca50bea6",
   "metadata": {},
   "outputs": [],
   "source": []
  },
  {
   "cell_type": "code",
   "execution_count": null,
   "id": "10b04be5-a7a4-4aad-b41b-5a88a8267339",
   "metadata": {},
   "outputs": [],
   "source": []
  }
 ],
 "metadata": {
  "kernelspec": {
   "display_name": "Python 3 (ipykernel)",
   "language": "python",
   "name": "python3"
  },
  "language_info": {
   "codemirror_mode": {
    "name": "ipython",
    "version": 3
   },
   "file_extension": ".py",
   "mimetype": "text/x-python",
   "name": "python",
   "nbconvert_exporter": "python",
   "pygments_lexer": "ipython3",
   "version": "3.12.4"
  }
 },
 "nbformat": 4,
 "nbformat_minor": 5
}
